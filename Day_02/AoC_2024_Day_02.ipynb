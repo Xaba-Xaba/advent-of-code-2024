{
 "cells": [
  {
   "cell_type": "code",
   "execution_count": 1,
   "id": "de0a0dbf",
   "metadata": {},
   "outputs": [],
   "source": [
    "import numpy as np\n",
    "import time"
   ]
  },
  {
   "cell_type": "code",
   "execution_count": 2,
   "id": "266a73f3",
   "metadata": {},
   "outputs": [],
   "source": [
    "FILE_NAME = 'data/day02.txt'\n",
    "\n",
    "with open (FILE_NAME) as f:\n",
    "    lines = f.readlines()"
   ]
  },
  {
   "cell_type": "markdown",
   "id": "b296cad8",
   "metadata": {},
   "source": [
    "### Part 1"
   ]
  },
  {
   "cell_type": "code",
   "execution_count": 3,
   "id": "a62db869",
   "metadata": {},
   "outputs": [
    {
     "data": {
      "text/plain": [
       "array([11,  1])"
      ]
     },
     "execution_count": 3,
     "metadata": {},
     "output_type": "execute_result"
    }
   ],
   "source": [
    "diff = np.diff([5,16,17])\n",
    "diff"
   ]
  },
  {
   "cell_type": "code",
   "execution_count": 4,
   "id": "a20e2cf5",
   "metadata": {},
   "outputs": [],
   "source": [
    "def check_if_increasing(arr):\n",
    "    \n",
    "    diff = np.diff(arr)\n",
    "    \n",
    "    if np.all(diff > 0):\n",
    "        if (max(diff)< 4) and (min(diff)>0):\n",
    "            return True\n",
    "        \n",
    "    return False\n",
    "        \n",
    "        \n",
    "def check_if_decreasing(arr):\n",
    "    \n",
    "    diff = np.diff(arr)\n",
    "    \n",
    "    if np.all(diff < 0):\n",
    "        if (max(abs(diff))< 4) and (min(abs(diff))>0):\n",
    "            return True\n",
    "\n",
    "    return False"
   ]
  },
  {
   "cell_type": "code",
   "execution_count": 5,
   "id": "26402513",
   "metadata": {},
   "outputs": [
    {
     "name": "stdout",
     "output_type": "stream",
     "text": [
      "591 reports are safe\n",
      "CPU times: total: 62.4 ms\n",
      "Wall time: 70 ms\n"
     ]
    }
   ],
   "source": [
    "%%time\n",
    "\n",
    "indicies_to_save = list()\n",
    "\n",
    "for index, report in enumerate(lines):\n",
    "\n",
    "    report = [int(char) for char in report.split()]   \n",
    "    arr = np.array(report)\n",
    "    \n",
    "    # Check for increasing pattern\n",
    "    if check_if_increasing(arr):\n",
    "        indicies_to_save.append(index)\n",
    "        continue\n",
    "                      \n",
    "    # Check for decreasing pattern\n",
    "    if check_if_decreasing(arr):\n",
    "        indicies_to_save.append(index)\n",
    "\n",
    "\n",
    "print(f'{len(set(indicies_to_save))} reports are safe')            "
   ]
  },
  {
   "cell_type": "markdown",
   "id": "55f1971f",
   "metadata": {},
   "source": [
    "### Part 2"
   ]
  },
  {
   "cell_type": "code",
   "execution_count": 6,
   "id": "0120e3f1",
   "metadata": {},
   "outputs": [],
   "source": [
    "def search_for_single_bad_level(arr):\n",
    "    for i in range(len(arr)):\n",
    "        new_arr = np.delete(arr, i)\n",
    "        \n",
    "        if check_if_increasing(new_arr):\n",
    "            return True\n",
    "        \n",
    "        if check_if_decreasing(new_arr):\n",
    "            return True\n",
    "        \n",
    "    return False"
   ]
  },
  {
   "cell_type": "code",
   "execution_count": 7,
   "id": "bee234c0",
   "metadata": {},
   "outputs": [
    {
     "name": "stdout",
     "output_type": "stream",
     "text": [
      "621 reports are safe\n",
      "CPU times: total: 234 ms\n",
      "Wall time: 240 ms\n"
     ]
    }
   ],
   "source": [
    "%%time\n",
    "indicies_to_save = list()\n",
    "\n",
    "for index, report in enumerate(lines):\n",
    "\n",
    "    report = [int(char) for char in report.split()]   \n",
    "    arr = np.array(report)\n",
    "    \n",
    "    #increasing\n",
    "    if check_if_increasing(arr):\n",
    "        indicies_to_save.append(index)\n",
    "        continue\n",
    "            \n",
    "    #decreasing\n",
    "    if check_if_decreasing(arr):\n",
    "        indicies_to_save.append(index)\n",
    "        continue\n",
    "            \n",
    "    # Search for any luck removing one level\n",
    "    if search_for_single_bad_level(arr):\n",
    "        indicies_to_save.append(index)\n",
    "\n",
    "print(f'{len(set(indicies_to_save))} reports are safe')"
   ]
  }
 ],
 "metadata": {
  "kernelspec": {
   "display_name": "Python 3 (ipykernel)",
   "language": "python",
   "name": "python3"
  },
  "language_info": {
   "codemirror_mode": {
    "name": "ipython",
    "version": 3
   },
   "file_extension": ".py",
   "mimetype": "text/x-python",
   "name": "python",
   "nbconvert_exporter": "python",
   "pygments_lexer": "ipython3",
   "version": "3.10.12"
  }
 },
 "nbformat": 4,
 "nbformat_minor": 5
}
