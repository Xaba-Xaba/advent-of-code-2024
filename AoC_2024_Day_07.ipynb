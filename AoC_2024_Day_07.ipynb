{
 "cells": [
  {
   "cell_type": "code",
   "execution_count": 1,
   "id": "93b20188",
   "metadata": {},
   "outputs": [],
   "source": [
    "import time\n",
    "import re\n",
    "import numpy as np\n",
    "from itertools import product"
   ]
  },
  {
   "cell_type": "code",
   "execution_count": 2,
   "id": "e79e4063",
   "metadata": {},
   "outputs": [],
   "source": [
    "FILE_NAME = 'data/day07.txt'\n",
    "\n",
    "with open (FILE_NAME) as f:\n",
    "    lines = f.readlines()\n",
    "\n",
    "# f = open(FILE_NAME, \"r\")\n",
    "# text = f.read()\n",
    "# f.close()"
   ]
  },
  {
   "cell_type": "code",
   "execution_count": 3,
   "id": "3234820f",
   "metadata": {},
   "outputs": [],
   "source": [
    "for line in lines:\n",
    "    test_value, numbers = line.replace('\\n', '').split(': ')\n",
    "    test_value = int(test_value)\n",
    "    numbers = [int(item) for item in numbers.split(' ')]\n",
    "#     print(test_value, numbers)"
   ]
  },
  {
   "cell_type": "markdown",
   "id": "1bbe71bc",
   "metadata": {},
   "source": [
    "### Part 1"
   ]
  },
  {
   "cell_type": "code",
   "execution_count": 4,
   "id": "4b1705ba",
   "metadata": {},
   "outputs": [],
   "source": [
    "def evaluate(numbers, operators):\n",
    "    \"\"\"Evaluate an equation with given numbers and operators.\"\"\"\n",
    "    result = numbers[0]\n",
    "    \n",
    "    for i, operator in enumerate(operators):\n",
    "        if operator == '+':\n",
    "            result += numbers[i + 1]\n",
    "        elif operator == '*':\n",
    "            result *= numbers[i + 1]\n",
    "    return result"
   ]
  },
  {
   "cell_type": "code",
   "execution_count": 5,
   "id": "9391a34d",
   "metadata": {},
   "outputs": [
    {
     "name": "stdout",
     "output_type": "stream",
     "text": [
      "12940396350192\n",
      "CPU times: total: 686 ms\n",
      "Wall time: 684 ms\n"
     ]
    }
   ],
   "source": [
    "%%time\n",
    "\n",
    "total_sum = 0\n",
    "p1_lines_indexes = []\n",
    "\n",
    "for index,line in enumerate(lines):\n",
    "   \n",
    "    test_value, numbers = line.replace('\\n', '').split(': ')\n",
    "    test_value = int(test_value)\n",
    "    \n",
    "    numbers = [int(item) for item in numbers.split(' ')]\n",
    "    \n",
    "    num_operators = len(numbers) - 1\n",
    "    combinations = list(product(\"+*\", repeat=num_operators))\n",
    "    \n",
    "#     print(combinations)\n",
    "       \n",
    "    for item in combinations:\n",
    "        if evaluate(numbers, item) == test_value:\n",
    "            total_sum += test_value\n",
    "            p1_lines_indexes.append(index)            \n",
    "            break\n",
    "            \n",
    "print(total_sum)"
   ]
  },
  {
   "cell_type": "markdown",
   "id": "bb4b2c1e",
   "metadata": {},
   "source": [
    "### Part 2"
   ]
  },
  {
   "cell_type": "code",
   "execution_count": 6,
   "id": "8df260a0",
   "metadata": {},
   "outputs": [],
   "source": [
    "def concatenate(a, b):\n",
    "\n",
    "    return int(str(a) + str(b))"
   ]
  },
  {
   "cell_type": "code",
   "execution_count": 7,
   "id": "aaa9567f",
   "metadata": {},
   "outputs": [],
   "source": [
    "def evaluate_2(numbers, operators):\n",
    "\n",
    "    result = numbers[0]\n",
    "    for i, operator in enumerate(operators):\n",
    "        if operator == '+':\n",
    "            result += numbers[i + 1]\n",
    "        elif operator == '*':\n",
    "            result *= numbers[i + 1]\n",
    "        elif operator == '|':\n",
    "            result = concatenate(result, numbers[i + 1])\n",
    "    return result"
   ]
  },
  {
   "cell_type": "code",
   "execution_count": 8,
   "id": "bd0f88e0",
   "metadata": {},
   "outputs": [
    {
     "name": "stdout",
     "output_type": "stream",
     "text": [
      "106016735664498\n",
      "CPU times: total: 59.4 s\n",
      "Wall time: 59.8 s\n"
     ]
    }
   ],
   "source": [
    "%%time\n",
    "\n",
    "total_sum = 0\n",
    "\n",
    "for line in lines:\n",
    "   \n",
    "    test_value, numbers = line.replace('\\n', '').split(': ')\n",
    "    test_value = int(test_value)\n",
    "    \n",
    "    numbers = [int(item) for item in numbers.split(' ')]\n",
    "\n",
    "    num_operators = len(numbers) - 1\n",
    "    combinations = product(\"+*|\", repeat=num_operators)\n",
    "    \n",
    "    for item in combinations:\n",
    "        if evaluate_2(numbers, item) == test_value:\n",
    "            total_sum += test_value\n",
    "            \n",
    "            break\n",
    "print(total_sum)"
   ]
  }
 ],
 "metadata": {
  "kernelspec": {
   "display_name": "Python 3 (ipykernel)",
   "language": "python",
   "name": "python3"
  },
  "language_info": {
   "codemirror_mode": {
    "name": "ipython",
    "version": 3
   },
   "file_extension": ".py",
   "mimetype": "text/x-python",
   "name": "python",
   "nbconvert_exporter": "python",
   "pygments_lexer": "ipython3",
   "version": "3.10.12"
  }
 },
 "nbformat": 4,
 "nbformat_minor": 5
}
