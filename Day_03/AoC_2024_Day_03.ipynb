{
 "cells": [
  {
   "cell_type": "code",
   "execution_count": 1,
   "id": "93b20188",
   "metadata": {},
   "outputs": [],
   "source": [
    "import time\n",
    "import re"
   ]
  },
  {
   "cell_type": "code",
   "execution_count": 2,
   "id": "7c514c70",
   "metadata": {},
   "outputs": [],
   "source": [
    "FILE_NAME = 'data/day03.txt'\n",
    "\n",
    "f = open(FILE_NAME, \"r\")\n",
    "text = f.read()\n",
    "f.close()\n",
    "\n",
    "text = text.replace('\\n', '')"
   ]
  },
  {
   "cell_type": "markdown",
   "id": "4761205d",
   "metadata": {},
   "source": [
    "![title](images/capturing_groups_regexp.jpg)"
   ]
  },
  {
   "cell_type": "code",
   "execution_count": 4,
   "id": "738e4e59",
   "metadata": {},
   "outputs": [
    {
     "name": "stdout",
     "output_type": "stream",
     "text": [
      "715\n"
     ]
    }
   ],
   "source": [
    "pattern_mul = r\"\"\"\n",
    "    mul            # matches the literal string 'mul'\n",
    "    \\(             # \\( escapes the ( to match it as a literal opening parenthesis. \n",
    "    (\\d{1,3})      # \\d{1,3}: matches 1 to 3 digits\n",
    "    ,              # matches the comma\n",
    "    (\\d{1,3})\n",
    "    \\)\n",
    "\n",
    "\"\"\"\n",
    "pattern_mul = re.compile(pattern_mul, re.VERBOSE)\n",
    "\n",
    "matches = []\n",
    "\n",
    "matches += re.findall(pattern_mul, text)\n",
    "\n",
    "print(len(matches))"
   ]
  },
  {
   "cell_type": "code",
   "execution_count": 5,
   "id": "e0c159f0",
   "metadata": {},
   "outputs": [
    {
     "name": "stdout",
     "output_type": "stream",
     "text": [
      "Results of the multiplications:  178886550\n"
     ]
    }
   ],
   "source": [
    "sum = 0\n",
    "\n",
    "for a, b in matches:\n",
    "    sum += int(a) * int(b)\n",
    "    \n",
    "print('Results of the multiplications: ', sum)"
   ]
  },
  {
   "cell_type": "markdown",
   "id": "a1f1eab5",
   "metadata": {},
   "source": [
    "### Part 2"
   ]
  },
  {
   "cell_type": "code",
   "execution_count": 6,
   "id": "228084f0",
   "metadata": {},
   "outputs": [],
   "source": [
    "text = \"do()\" + text + \"don't()\""
   ]
  },
  {
   "cell_type": "code",
   "execution_count": 8,
   "id": "5b344778",
   "metadata": {},
   "outputs": [
    {
     "name": "stdout",
     "output_type": "stream",
     "text": [
      "21\n"
     ]
    }
   ],
   "source": [
    "pattern_do_dont = r\"\"\"\n",
    "    do\\(\\)\n",
    "    .*?\n",
    "    don't\\(\\)\n",
    "\n",
    "\"\"\"\n",
    "\n",
    "pattern_do_dont = re.compile(pattern_do_dont, re.VERBOSE)\n",
    "\n",
    "matches_do_dont = re.findall(pattern_do_dont, text)\n",
    "print(len(matches_do_dont))"
   ]
  },
  {
   "cell_type": "code" ,
   "execution_count": 9,
   "id": "4d0ade74",
   "metadata": {},
   "outputs": [
    {
     "name": "stdout",
     "output_type": "stream",
     "text": [
      "Results of the multiplications:  87163705\n"
     ]
    }
   ],
   "source": [
    "sum2 = 0\n",
    "\n",
    "for item in matches_do_dont:\n",
    "    for a,b in re.findall(pattern_mul, item):\n",
    "        sum2 += int(a)*int(b)\n",
    "\n",
    "print('Results of the multiplications: ', sum2)"
   ]
  }
 ],
 "metadata": {
  "kernelspec": {
   "display_name": "Python 3 (ipykernel)",
   "language": "python",
   "name": "python3"
  },
  "language_info": {
   "codemirror_mode": {
    "name": "ipython",
    "version": 3
   },
   "file_extension": ".py",
   "mimetype": "text/x-python",
   "name": "python",
   "nbconvert_exporter": "python",
   "pygments_lexer": "ipython3",
   "version": "3.10.12"
  }
 },
 "nbformat": 4,
 "nbformat_minor": 5
}
