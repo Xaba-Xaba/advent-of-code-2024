{
 "cells": [
  {
   "cell_type": "code",
   "execution_count": null,
   "id": "93b20188",
   "metadata": {},
   "outputs": [],
   "source": [
    "import re"
   ]
  },
  {
   "cell_type": "code",
   "execution_count": null,
   "id": "e79e4063",
   "metadata": {},
   "outputs": [],
   "source": [
    "FILE_NAME = 'data/day13.txt'\n",
    "\n",
    "with open (FILE_NAME) as f:\n",
    "    lines = f.readlines()"
   ]
  },
  {
   "cell_type": "markdown",
   "id": "3c3fdc21",
   "metadata": {},
   "source": [
    "### Part 1"
   ]
  },
  {
   "cell_type": "code",
   "execution_count": null,
   "id": "32e86fff",
   "metadata": {},
   "outputs": [],
   "source": [
    "patter = r'\\d+'\n",
    "patter = re.compile(patter)\n",
    "\n",
    "tokens = 0\n",
    "\n",
    "for line in lines:      \n",
    "    \n",
    "    if line.startswith('Button A:'):\n",
    "        \n",
    "        numbers = re.findall(patter, line)\n",
    "        \n",
    "        x1 = int(numbers[0])\n",
    "        y1 = int(numbers[1])\n",
    "    \n",
    "    if line.startswith('Button B:'):\n",
    "        \n",
    "        numbers = re.findall(patter, line)\n",
    "        \n",
    "        x2 = int(numbers[0])\n",
    "        y2 = int(numbers[1])\n",
    "\n",
    "    elif line.startswith('Prize'):\n",
    "        \n",
    "        prize = re.findall(patter, line)\n",
    "        c = int(prize[0])\n",
    "        d = int(prize[1])\n",
    "\n",
    "        a = (c*y2 - d*x2) / (x1*y2 - y1*x2)\n",
    "        b = (d*x1 - c*y1) / (x1*y2 - y1*x2)\n",
    "        \n",
    "        if a == int(a) and b == int(b):\n",
    "            \n",
    "            # each button would need to be pressed no more than 100 times to win a prize\n",
    "            if a < 100 and b< 100:\n",
    "                tokens = tokens + int(3*a + b)\n",
    "            \n",
    "print(tokens)"
   ]
  },
  {
   "cell_type": "markdown",
   "id": "fbe6ff86",
   "metadata": {},
   "source": [
    "### Part 2"
   ]
  },
  {
   "cell_type": "code",
   "execution_count": null,
   "id": "37bdea3f",
   "metadata": {},
   "outputs": [],
   "source": [
    "tokens = 0\n",
    "extra = 10000000000000\n",
    "\n",
    "for line in lines:      \n",
    "    \n",
    "    if line.startswith('Button A:'):\n",
    "        \n",
    "        numbers = re.findall(patter, line)\n",
    "        \n",
    "        x1 = int(numbers[0])\n",
    "        y1 = int(numbers[1])\n",
    "    \n",
    "    if line.startswith('Button B:'):\n",
    "        \n",
    "        numbers = re.findall(patter, line)\n",
    "        \n",
    "        x2 = int(numbers[0])\n",
    "        y2 = int(numbers[1])\n",
    "\n",
    "    elif line.startswith('Prize'):\n",
    "        \n",
    "        prize = re.findall(patter, line)\n",
    "        c = int(prize[0]) + extra\n",
    "        d = int(prize[1]) + extra\n",
    "\n",
    "        a = (c*y2 - d*x2) / (x1*y2 - y1*x2)\n",
    "        b = (d*x1 - c*y1) / (x1*y2 - y1*x2)\n",
    "              \n",
    "        if a == int(a) and b == int(b):\n",
    "            \n",
    "            tokens = tokens + int(3*a + b)\n",
    "            \n",
    "print(tokens)"
   ]
  }
 ],
 "metadata": {
  "kernelspec": {
   "display_name": "Python 3 (ipykernel)",
   "language": "python",
   "name": "python3"
  },
  "language_info": {
   "codemirror_mode": {
    "name": "ipython",
    "version": 3
   },
   "file_extension": ".py",
   "mimetype": "text/x-python",
   "name": "python",
   "nbconvert_exporter": "python",
   "pygments_lexer": "ipython3",
   "version": "3.10.12"
  }
 },
 "nbformat": 4,
 "nbformat_minor": 5
}
