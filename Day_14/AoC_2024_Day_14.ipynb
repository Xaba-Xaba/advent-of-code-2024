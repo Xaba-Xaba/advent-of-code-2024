{
 "cells": [
  {
   "cell_type": "code",
   "execution_count": null,
   "id": "93b20188",
   "metadata": {},
   "outputs": [],
   "source": [
    "import time\n",
    "import re\n",
    "import numpy as np\n",
    "import tqdm "
   ]
  },
  {
   "cell_type": "code",
   "execution_count": null,
   "id": "e79e4063",
   "metadata": {},
   "outputs": [],
   "source": [
    "FILE_NAME = 'data/day14_test.txt'\n",
    "\n",
    "with open (FILE_NAME) as f:\n",
    "    lines = f.readlines()"
   ]
  },
  {
   "cell_type": "markdown",
   "id": "ae0fc3dd",
   "metadata": {},
   "source": [
    "### test Part "
   ]
  },
  {
   "cell_type": "code",
   "execution_count": null,
   "id": "5c49e365",
   "metadata": {},
   "outputs": [],
   "source": [
    "# Coordinates X0Y0\n",
    "\n",
    "SPACE = (11,7)\n",
    "SECONDS = 100"
   ]
  },
  {
   "cell_type": "markdown",
   "id": "6d4d5542",
   "metadata": {},
   "source": [
    "def calc_position(px, py, vx, vy, time):\n",
    "    \n",
    "    while time > 0:\n",
    "        \n",
    "        px = (px + vx) % SPACE[0]\n",
    "        py = (py + vy) % SPACE[1]\n",
    "        time -=1\n",
    "        \n",
    "    return px, py"
   ]
  },
  {
   "cell_type": "code",
   "execution_count": null,
   "id": "2e66536b",
   "metadata": {},
   "outputs": [],
   "source": [
    "def calc_position(px, py, vx, vy, time):\n",
    "    \n",
    "    px = (px + vx*time) % SPACE[0]\n",
    "    py = (py + vy*time) % SPACE[1]\n",
    "    \n",
    "    return px, py"
   ]
  },
  {
   "cell_type": "code",
   "execution_count": null,
   "id": "7aefd698",
   "metadata": {},
   "outputs": [],
   "source": [
    "# Simple check from task description \n",
    "# p=2,4 v=2,-3\n",
    "assert calc_position(2, 4, 2,-3, 5) == (1,3)"
   ]
  },
  {
   "cell_type": "code",
   "execution_count": null,
   "id": "ac4868b5",
   "metadata": {},
   "outputs": [],
   "source": [
    "robots = []\n",
    "for line in lines:\n",
    "    \n",
    "    position = line.split()[0].split(',')\n",
    "    px = int(position[0][2:])\n",
    "    py = int(position[1])\n",
    "\n",
    "    velocity = line.split()[1].split(',')\n",
    "    vx = int(velocity[0][2:])\n",
    "    vy = int(velocity[1])\n",
    "    \n",
    "    robots.append(calc_position(px, py, vx, vy, SECONDS))"
   ]
  },
  {
   "cell_type": "code",
   "execution_count": null,
   "id": "bbe3bf9e",
   "metadata": {},
   "outputs": [],
   "source": [
    "print(f'Robots\\' postions from task description:\\n {robots}')"
   ]
  },
  {
   "cell_type": "code",
   "execution_count": null,
   "id": "5552e717",
   "metadata": {},
   "outputs": [],
   "source": [
    "mid_row = SPACE[1]//2\n",
    "mid_collumn = SPACE[0]//2\n",
    "print(f'Middle collumn: {mid_collumn}, Middle row: {mid_row}')\n",
    "    \n",
    "q1, q2, q3, q4 = 0,0,0,0\n",
    "\n",
    "for robot in robots:\n",
    "    if robot[0] < mid_collumn:\n",
    "        if robot[1] < mid_row:\n",
    "            q1 += 1\n",
    "        elif robot[1] > mid_row:\n",
    "            q3 += 1\n",
    "    if robot[0] > mid_collumn:\n",
    "        if robot[1] < mid_row:\n",
    "            q2 += 1\n",
    "        elif robot[1] > mid_row:\n",
    "            q4 += 1\n",
    "                \n",
    "print(f'Safety factor: {q1 * q2 * q3 * q4}')"
   ]
  },
  {
   "cell_type": "code",
   "execution_count": null,
   "id": "ece12e99",
   "metadata": {},
   "outputs": [],
   "source": [
    "SPACE[0] * SPACE[1]"
   ]
  },
  {
   "cell_type": "code",
   "execution_count": null,
   "id": "276aa74f",
   "metadata": {},
   "outputs": [],
   "source": [
    "# time for some fun math\n",
    "# in time SPACE[0] * SPACE[1] every robot returns to the same position\n",
    "# as it started\n",
    "robots = []\n",
    "for line in lines:\n",
    "    \n",
    "    position = line.split()[0].split(',')\n",
    "    px = int(position[0][2:])\n",
    "    py = int(position[1])\n",
    "\n",
    "    velocity = line.split()[1].split(',')\n",
    "    vx = int(velocity[0][2:])\n",
    "    vy = int(velocity[1])\n",
    "    \n",
    "    print((px, py), calc_position(px, py, vx, vy, SPACE[0] * SPACE[1]))"
   ]
  },
  {
   "cell_type": "markdown",
   "id": "af09c25b",
   "metadata": {},
   "source": [
    "### Part 1"
   ]
  },
  {
   "cell_type": "code",
   "execution_count": null,
   "id": "454f4e9f",
   "metadata": {},
   "outputs": [],
   "source": [
    "FILE_NAME = 'data/day14.txt'\n",
    "\n",
    "with open (FILE_NAME) as f:\n",
    "    lines = f.readlines()"
   ]
  },
  {
   "cell_type": "code",
   "execution_count": null,
   "id": "eb291b3d",
   "metadata": {},
   "outputs": [],
   "source": [
    "SPACE = (101,103)\n",
    "SECONDS = 100"
   ]
  },
  {
   "cell_type": "code",
   "execution_count": null,
   "id": "675fc4b3",
   "metadata": {},
   "outputs": [],
   "source": [
    "robots = list()\n",
    "positions = list()\n",
    "velocities = list()\n",
    "\n",
    "for line in lines:\n",
    "    \n",
    "    position = line.split()[0].split(',')\n",
    "    px = int(position[0][2:])\n",
    "    py = int(position[1])\n",
    "    \n",
    "    positions.append((px,py))\n",
    "\n",
    "    velocity = line.split()[1].split(',')\n",
    "    vx = int(velocity[0][2:])\n",
    "    vy = int(velocity[1])\n",
    "    \n",
    "    velocities.append((vx,vy))\n",
    "    \n",
    "    robots.append(calc_position(px, py, vx, vy, SECONDS))"
   ]
  },
  {
   "cell_type": "code",
   "execution_count": null,
   "id": "54f84384",
   "metadata": {},
   "outputs": [],
   "source": [
    "mid_row = SPACE[1]//2\n",
    "mid_collumn = SPACE[0]//2\n",
    "print(f'Middle collumn: {mid_collumn}, Middle row: {mid_row}')\n",
    "    \n",
    "q1, q2, q3, q4 = 0,0,0,0\n",
    "\n",
    "for robot in robots:\n",
    "    if robot[0] < mid_collumn:\n",
    "        if robot[1] < mid_row:\n",
    "            q1 += 1\n",
    "        elif robot[1] > mid_row:\n",
    "            q3 += 1\n",
    "    if robot[0] > mid_collumn:\n",
    "        if robot[1] < mid_row:\n",
    "            q2 += 1\n",
    "        elif robot[1] > mid_row:\n",
    "            q4 += 1\n",
    "                \n",
    "print(f'Safety factor: {q1 * q2 * q3 * q4}')"
   ]
  },
  {
   "cell_type": "markdown",
   "id": "c1669fab",
   "metadata": {},
   "source": [
    "### Part 2"
   ]
  },
  {
   "cell_type": "code",
   "execution_count": null,
   "id": "4f7c9be9",
   "metadata": {},
   "outputs": [],
   "source": [
    "# very rarely, most of the robots should arrange themselves into a picture of a Christmas tree"
   ]
  },
  {
   "cell_type": "code",
   "execution_count": null,
   "id": "a6016493",
   "metadata": {},
   "outputs": [],
   "source": [
    "%%time\n",
    "time = 0\n",
    "\n",
    "while time < (SPACE[0] * SPACE[1]):\n",
    "    \n",
    "    unique_positions = set(positions)\n",
    "    if len(unique_positions) == len (positions):\n",
    "        break\n",
    "    \n",
    "    temp_list = list()\n",
    "    for (px,py), (vx,vy) in zip(positions, velocities):\n",
    "\n",
    "        next_position = calc_position(px, py, vx, vy, 1)\n",
    "        temp_list.append(next_position)\n",
    "       \n",
    "    positions = temp_list.copy()\n",
    "    del temp_list        \n",
    "    \n",
    "    time +=1\n",
    "print(time)"
   ]
  }
 ],
 "metadata": {
  "kernelspec": {
   "display_name": "Python 3 (ipykernel)",
   "language": "python",
   "name": "python3"
  },
  "language_info": {
   "codemirror_mode": {
    "name": "ipython",
    "version": 3
   },
   "file_extension": ".py",
   "mimetype": "text/x-python",
   "name": "python",
   "nbconvert_exporter": "python",
   "pygments_lexer": "ipython3",
   "version": "3.10.12"
  }
 },
 "nbformat": 4,
 "nbformat_minor": 5
}
